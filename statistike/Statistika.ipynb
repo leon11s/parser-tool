{
 "cells": [
  {
   "cell_type": "markdown",
   "id": "a91e1b91",
   "metadata": {},
   "source": [
    "# Primer - Nanostat"
   ]
  },
  {
   "cell_type": "code",
   "execution_count": 1,
   "id": "19b0bc87",
   "metadata": {},
   "outputs": [],
   "source": [
    "path = \"data/nanostat/CFBP_1719\"\n",
    "\n",
    "with open(path, \"r\") as test_file:\n",
    "    data = test_file.readlines()"
   ]
  },
  {
   "cell_type": "code",
   "execution_count": 15,
   "id": "50902445",
   "metadata": {},
   "outputs": [
    {
     "name": "stdout",
     "output_type": "stream",
     "text": [
      "{'mean_rl': 3434.6, 'mean_rq': 12.5, 'median_rl': 1943.0, 'median_rq': 12.6, 'number_of_reads': 1725.0, 'read_len_50': 6773.0, 'stdev_read_len': 4219.5, 'total_bases': 5924628.0}\n"
     ]
    }
   ],
   "source": [
    "def parse_line(line: str) -> float:\n",
    "    line_splitted = line.strip().split()\n",
    "    number = line_splitted[-1].replace(\",\",\"\")\n",
    "    return float(number)\n",
    "    \n",
    "\n",
    "def parse_general_summary(data: list[str]) -> dict:\n",
    "    results = {}\n",
    "    for line in data:\n",
    "        if \"Mean read length:\" in line:\n",
    "            results[\"mean_rl\"] = parse_line(line)\n",
    "        elif \"Mean read quality:\" in line:\n",
    "            results[\"mean_rq\"] = parse_line(line)\n",
    "        elif \"Median read length:\" in line:\n",
    "            results[\"median_rl\"] = parse_line(line)\n",
    "        elif \"Median read quality:\" in line:\n",
    "            results[\"median_rq\"] = parse_line(line)\n",
    "        elif \"Number of reads:\" in line:\n",
    "            results[\"number_of_reads\"] = parse_line(line)\n",
    "        elif \"Read length N50:\" in line:\n",
    "            results[\"read_len_50\"] = parse_line(line)\n",
    "        elif \"STDEV read length:\" in line:\n",
    "            results[\"stdev_read_len\"] = parse_line(line)\n",
    "        elif \"Total bases:\" in line:\n",
    "            results[\"total_bases\"] = parse_line(line)\n",
    "\n",
    "        \n",
    "    print(results)\n",
    "            \n",
    "parse_general_summary(data)"
   ]
  },
  {
   "cell_type": "code",
   "execution_count": 2,
   "id": "44a5838a",
   "metadata": {},
   "outputs": [
    {
     "data": {
      "text/plain": [
       "['General summary:         \\n',\n",
       " 'Mean read length:              3,434.6\\n',\n",
       " 'Mean read quality:                12.5\\n',\n",
       " 'Median read length:            1,943.0\\n',\n",
       " 'Median read quality:              12.6\\n',\n",
       " 'Number of reads:               1,725.0\\n',\n",
       " 'Read length N50:               6,773.0\\n',\n",
       " 'STDEV read length:             4,219.5\\n',\n",
       " 'Total bases:               5,924,628.0\\n',\n",
       " 'Number, percentage and megabases of reads above quality cutoffs\\n',\n",
       " '>Q5:\\t1725 (100.0%) 5.9Mb\\n',\n",
       " '>Q7:\\t1725 (100.0%) 5.9Mb\\n',\n",
       " '>Q10:\\t1568 (90.9%) 5.4Mb\\n',\n",
       " '>Q12:\\t1080 (62.6%) 3.9Mb\\n',\n",
       " '>Q15:\\t96 (5.6%) 0.2Mb\\n',\n",
       " 'Top 5 highest mean basecall quality scores and their read lengths\\n',\n",
       " '1:\\t19.7 (270)\\n',\n",
       " '2:\\t19.6 (242)\\n',\n",
       " '3:\\t18.6 (145)\\n',\n",
       " '4:\\t18.0 (432)\\n',\n",
       " '5:\\t17.9 (296)\\n',\n",
       " 'Top 5 longest reads and their mean basecall quality score\\n',\n",
       " '1:\\t36198 (10.3)\\n',\n",
       " '2:\\t35371 (11.6)\\n',\n",
       " '3:\\t29367 (9.7)\\n',\n",
       " '4:\\t28874 (13.1)\\n',\n",
       " '5:\\t27986 (13.1)\\n']"
      ]
     },
     "execution_count": 2,
     "metadata": {},
     "output_type": "execute_result"
    }
   ],
   "source": [
    "data"
   ]
  },
  {
   "cell_type": "code",
   "execution_count": null,
   "id": "1f1995ad",
   "metadata": {},
   "outputs": [],
   "source": []
  },
  {
   "cell_type": "code",
   "execution_count": null,
   "id": "2917e862",
   "metadata": {},
   "outputs": [],
   "source": []
  },
  {
   "cell_type": "code",
   "execution_count": null,
   "id": "4154ce84",
   "metadata": {},
   "outputs": [],
   "source": []
  },
  {
   "cell_type": "code",
   "execution_count": null,
   "id": "ed301b9d",
   "metadata": {},
   "outputs": [],
   "source": []
  }
 ],
 "metadata": {
  "kernelspec": {
   "display_name": "Python 3 (ipykernel)",
   "language": "python",
   "name": "python3"
  },
  "language_info": {
   "codemirror_mode": {
    "name": "ipython",
    "version": 3
   },
   "file_extension": ".py",
   "mimetype": "text/x-python",
   "name": "python",
   "nbconvert_exporter": "python",
   "pygments_lexer": "ipython3",
   "version": "3.11.3"
  }
 },
 "nbformat": 4,
 "nbformat_minor": 5
}
