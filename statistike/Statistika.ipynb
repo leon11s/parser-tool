{
 "cells": [
  {
   "cell_type": "markdown",
   "id": "2f1adbe6",
   "metadata": {},
   "source": [
    "# Primer - Nanostat"
   ]
  },
  {
   "cell_type": "code",
   "execution_count": 18,
   "id": "af328155",
   "metadata": {},
   "outputs": [],
   "source": [
    "import pandas as pd"
   ]
  },
  {
   "cell_type": "code",
   "execution_count": 1,
   "id": "6aae660b",
   "metadata": {},
   "outputs": [],
   "source": [
    "path = \"data/nanostat/CFBP_1719\"\n",
    "\n",
    "with open(path, \"r\") as test_file:\n",
    "    data = test_file.readlines()"
   ]
  },
  {
   "cell_type": "code",
   "execution_count": 25,
   "id": "5363e683",
   "metadata": {},
   "outputs": [
    {
     "data": {
      "text/html": [
       "<div>\n",
       "<style scoped>\n",
       "    .dataframe tbody tr th:only-of-type {\n",
       "        vertical-align: middle;\n",
       "    }\n",
       "\n",
       "    .dataframe tbody tr th {\n",
       "        vertical-align: top;\n",
       "    }\n",
       "\n",
       "    .dataframe thead th {\n",
       "        text-align: right;\n",
       "    }\n",
       "</style>\n",
       "<table border=\"1\" class=\"dataframe\">\n",
       "  <thead>\n",
       "    <tr style=\"text-align: right;\">\n",
       "      <th></th>\n",
       "      <th>mean_rl</th>\n",
       "      <th>mean_rq</th>\n",
       "      <th>median_rl</th>\n",
       "      <th>median_rq</th>\n",
       "      <th>number_of_reads</th>\n",
       "      <th>read_len_50</th>\n",
       "      <th>stdev_read_len</th>\n",
       "      <th>total_bases</th>\n",
       "    </tr>\n",
       "  </thead>\n",
       "  <tbody>\n",
       "    <tr>\n",
       "      <th>0</th>\n",
       "      <td>3434.6</td>\n",
       "      <td>12.5</td>\n",
       "      <td>1943.0</td>\n",
       "      <td>12.6</td>\n",
       "      <td>1725.0</td>\n",
       "      <td>6773.0</td>\n",
       "      <td>4219.5</td>\n",
       "      <td>5924628.0</td>\n",
       "    </tr>\n",
       "  </tbody>\n",
       "</table>\n",
       "</div>"
      ],
      "text/plain": [
       "   mean_rl  mean_rq  median_rl  median_rq  number_of_reads  read_len_50  \\\n",
       "0   3434.6     12.5     1943.0       12.6           1725.0       6773.0   \n",
       "\n",
       "   stdev_read_len  total_bases  \n",
       "0          4219.5    5924628.0  "
      ]
     },
     "execution_count": 25,
     "metadata": {},
     "output_type": "execute_result"
    }
   ],
   "source": [
    "def parse_line(line: str) -> float:\n",
    "    line_splitted = line.strip().split()\n",
    "    number = line_splitted[-1].replace(\",\",\"\")\n",
    "    return float(number)\n",
    "    \n",
    "\n",
    "def parse_general_summary(data: list[str]) -> dict:\n",
    "    results = {}\n",
    "    for line in data:\n",
    "        if \"Mean read length:\" in line:\n",
    "            results[\"mean_rl\"] = parse_line(line)\n",
    "        elif \"Mean read quality:\" in line:\n",
    "            results[\"mean_rq\"] = parse_line(line)\n",
    "        elif \"Median read length:\" in line:\n",
    "            results[\"median_rl\"] = parse_line(line)\n",
    "        elif \"Median read quality:\" in line:\n",
    "            results[\"median_rq\"] = parse_line(line)\n",
    "        elif \"Number of reads:\" in line:\n",
    "            results[\"number_of_reads\"] = parse_line(line)\n",
    "        elif \"Read length N50:\" in line:\n",
    "            results[\"read_len_50\"] = parse_line(line)\n",
    "        elif \"STDEV read length:\" in line:\n",
    "            results[\"stdev_read_len\"] = parse_line(line)\n",
    "        elif \"Total bases:\" in line:\n",
    "            results[\"total_bases\"] = parse_line(line)\n",
    "    return results\n",
    "            \n",
    "        \n",
    "general_summary = parse_general_summary(data)\n",
    "clean_data = pd.DataFrame.from_dict([general_summary])\n",
    "clean_data"
   ]
  },
  {
   "cell_type": "code",
   "execution_count": null,
   "id": "74044ff7",
   "metadata": {},
   "outputs": [],
   "source": []
  },
  {
   "cell_type": "code",
   "execution_count": null,
   "id": "a9032edc",
   "metadata": {},
   "outputs": [],
   "source": []
  },
  {
   "cell_type": "code",
   "execution_count": null,
   "id": "4dbccd0a",
   "metadata": {},
   "outputs": [],
   "source": []
  },
  {
   "cell_type": "code",
   "execution_count": null,
   "id": "737ddbc8",
   "metadata": {},
   "outputs": [],
   "source": []
  },
  {
   "cell_type": "code",
   "execution_count": null,
   "id": "bd5b7402",
   "metadata": {},
   "outputs": [],
   "source": []
  },
  {
   "cell_type": "code",
   "execution_count": 2,
   "id": "59718802",
   "metadata": {},
   "outputs": [
    {
     "data": {
      "text/plain": [
       "['General summary:         \\n',\n",
       " 'Mean read length:              3,434.6\\n',\n",
       " 'Mean read quality:                12.5\\n',\n",
       " 'Median read length:            1,943.0\\n',\n",
       " 'Median read quality:              12.6\\n',\n",
       " 'Number of reads:               1,725.0\\n',\n",
       " 'Read length N50:               6,773.0\\n',\n",
       " 'STDEV read length:             4,219.5\\n',\n",
       " 'Total bases:               5,924,628.0\\n',\n",
       " 'Number, percentage and megabases of reads above quality cutoffs\\n',\n",
       " '>Q5:\\t1725 (100.0%) 5.9Mb\\n',\n",
       " '>Q7:\\t1725 (100.0%) 5.9Mb\\n',\n",
       " '>Q10:\\t1568 (90.9%) 5.4Mb\\n',\n",
       " '>Q12:\\t1080 (62.6%) 3.9Mb\\n',\n",
       " '>Q15:\\t96 (5.6%) 0.2Mb\\n',\n",
       " 'Top 5 highest mean basecall quality scores and their read lengths\\n',\n",
       " '1:\\t19.7 (270)\\n',\n",
       " '2:\\t19.6 (242)\\n',\n",
       " '3:\\t18.6 (145)\\n',\n",
       " '4:\\t18.0 (432)\\n',\n",
       " '5:\\t17.9 (296)\\n',\n",
       " 'Top 5 longest reads and their mean basecall quality score\\n',\n",
       " '1:\\t36198 (10.3)\\n',\n",
       " '2:\\t35371 (11.6)\\n',\n",
       " '3:\\t29367 (9.7)\\n',\n",
       " '4:\\t28874 (13.1)\\n',\n",
       " '5:\\t27986 (13.1)\\n']"
      ]
     },
     "execution_count": 2,
     "metadata": {},
     "output_type": "execute_result"
    }
   ],
   "source": [
    "data"
   ]
  },
  {
   "cell_type": "code",
   "execution_count": null,
   "id": "9b1f739e",
   "metadata": {},
   "outputs": [],
   "source": []
  },
  {
   "cell_type": "code",
   "execution_count": null,
   "id": "9b96b791",
   "metadata": {},
   "outputs": [],
   "source": []
  },
  {
   "cell_type": "code",
   "execution_count": null,
   "id": "2c1a2401",
   "metadata": {},
   "outputs": [],
   "source": []
  },
  {
   "cell_type": "code",
   "execution_count": null,
   "id": "0517da4a",
   "metadata": {},
   "outputs": [],
   "source": []
  }
 ],
 "metadata": {
  "kernelspec": {
   "display_name": "Python 3 (ipykernel)",
   "language": "python",
   "name": "python3"
  },
  "language_info": {
   "codemirror_mode": {
    "name": "ipython",
    "version": 3
   },
   "file_extension": ".py",
   "mimetype": "text/x-python",
   "name": "python",
   "nbconvert_exporter": "python",
   "pygments_lexer": "ipython3",
   "version": "3.11.3"
  }
 },
 "nbformat": 4,
 "nbformat_minor": 5
}
